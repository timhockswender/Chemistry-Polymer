{
 "cells": [
  {
   "cell_type": "raw",
   "id": "ba27274e-fcd0-4645-a2de-7ca95a0ec666",
   "metadata": {},
   "source": [
    "This model was developed to support the hypothesis that the set of differential equations developed for AKS\n",
    "would work for all solution polymerizations.\n",
    "These results fuly support the hypothesis with one major caveat or note:\n",
    "The moment namwes in this paper (aka Dhooge) are reversed from those in the model called AKS'\n",
    "No effort was made to check the authors use/non-use of a factor of two in some equatins related to the termination constant, kt.\n",
    "The generated files and plots match the original paper.\n",
    "Benchmarking Stochastic and Deterministic Kinetic\n",
    "\"Modeling of Bulk and Solution Radical Polymerization...\"\n",
    "Macromol. Theory Simul. 2020, 29, 2000065"
   ]
  },
  {
   "cell_type": "code",
   "execution_count": null,
   "id": "b16c1457-e687-4c83-bc07-c6e81675beec",
   "metadata": {},
   "outputs": [],
   "source": [
    "import numpy as np\n",
    "from scipy.integrate import solve_ivp\n",
    "from scipy.integrate import odeint\n",
    "import matplotlib.pyplot as plt\n",
    "#%matplotlib  inline\n",
    "import csv\n",
    "from Plot_Library1 import *"
   ]
  },
  {
   "cell_type": "code",
   "execution_count": null,
   "id": "dff9ae77-2c93-49f6-8211-31e8d0d24f10",
   "metadata": {},
   "outputs": [],
   "source": [
    "#makes it look nice\n",
    "format_and_print = lambda nums: print(' '.join([f'{num:.2e}' for num in nums])) #[1=>many items are printed]"
   ]
  },
  {
   "cell_type": "raw",
   "id": "00a7728c-48c4-42ca-aeca-255b35167906",
   "metadata": {},
   "source": [
    "Some examples of the ratio of combination to disproportionation\n",
    "in free radical polymerization are:\n",
    "Styrene: 9:1\n",
    "Methyl methacrylate: 1:1\n",
    "Acrylonitrile: 1:9\n"
   ]
  },
  {
   "cell_type": "code",
   "execution_count": null,
   "id": "c9b2ea3f-1291-41d0-a1b9-8098db8de6f6",
   "metadata": {},
   "outputs": [],
   "source": [
    "def poly_AKS(t,y):\n",
    "    kd = 2.5e-4\n",
    "    kp = 1.3e+3\n",
    "    ktrm = 2.5e-2\n",
    "    ktc = 3.7e+7\n",
    "    ktd = 7.3e+7\n",
    "    f = 1.0 #for comparison\n",
    "    #f = 0.58 #see if any difference\n",
    "    \n",
    "    I , M, lam0,lam1,lam2,mu0,mu1,mu2 = y\n",
    "   #=============================================  \n",
    "     #======================================================\n",
    "    if(mu0 < 0):\n",
    "        mu0 = 0\n",
    "    if(mu1 < 0):\n",
    "        print('mu 1 <0 at t=', mu1,t) #happened at t= 70 at least\n",
    "        mu1 = 0\n",
    "    if(mu2 < 0):\n",
    "        mu2 = 0\n",
    "    if(lam0 < 0):\n",
    "         lam0 = 0\n",
    "    if(lam1 < 0):\n",
    "         print('lam 1 <0 at t=', mu1,t)\n",
    "         lam1 = 0\n",
    "    if(lam2 < 0):\n",
    "         lam2 = 0    \n",
    "    #=============================================  \n",
    "    dIdt = -kd*I\n",
    "    dMdt = -mu0*M*(kp+ktrm) - 2.*f*kd*I #AKS\n",
    "    #dead moments\n",
    "    dlam0dt = 2*f*kd*I + mu0 *ktrm*M - .5*mu0*mu0*ktc\n",
    "    dlam1dt = 2*f*kd*I + mu0 *(kp+ktrm)*M\n",
    "    dlam2dt = 2*f*kd*I + mu0 *(kp+ktrm)*M + 2*mu1*kp*M +mu1*mu1*ktc\n",
    "    #live moments\n",
    "    dmu0dt =  2*f*kd*I - (mu0 * mu0 * (ktc+ktd) )\n",
    "    dmu1dt =  2*f*kd*I - (mu1-mu0)*ktrm*M - mu1 * mu0 *(ktc+ktd) + mu0*kp*M\n",
    "    dmu2dt =  2*f*kd*I - (mu2-mu0)*ktrm*M - mu2 * mu0 *(ktc+ktd) + (2 * mu1 + mu0)*kp*M\n",
    "    return [dIdt, dMdt, dlam0dt, dlam1dt, dlam2dt, dmu0dt, dmu1dt, dmu2dt ]\n",
    "\n",
    "\n"
   ]
  },
  {
   "cell_type": "code",
   "execution_count": null,
   "id": "4e4e9c08-edf4-4482-8e2c-11f6db24404c",
   "metadata": {},
   "outputs": [],
   "source": [
    "def poly_Dhooge(t,y):\n",
    "    kd = 2.5e-4\n",
    "    kp = 1.3e+3\n",
    "    ktrm = 2.5e-2\n",
    "    ktc = 3.7e+7\n",
    "    ktd = 7.3e+7\n",
    "    f = 1.0,\n",
    "    \n",
    "    I2 , M, lam0,lam1,lam2,mu0,mu1,mu2, I = y\n",
    "     #======================================================\n",
    "    if(mu0 < 0):\n",
    "        mu0 = 0\n",
    "    if(mu1 < 0):\n",
    "       # print('mu 1 <0 at t=', mu1,t) #happened at t= 70 at least\n",
    "        mu1 = 0\n",
    "    if(mu2 < 0):\n",
    "        mu2 = 0\n",
    "    if(lam0 < 0):\n",
    "         lam0 = 0\n",
    "    if(lam1 < 0):\n",
    "         #print('lam 1 <0 at t=', lam1,t)\n",
    "         lam1 = 0\n",
    "    if(lam2 < 0):\n",
    "         lam2 = 0    \n",
    "    #=============================================  \n",
    "    dI2dt = -kd*I2   \n",
    "    dIdt = 2*kd*I2- kp*I*M\n",
    "    #lam0 == [R]tot\n",
    "    dMdt = -lam0*M*(kp+ktrm) - kp*I*M\n",
    "    #dead moments in AKS; Dooge equates lambda with macroradicals and mu for Dead polymer\n",
    "    dmu0dt = .5*lam0*lam0*ktc + lam0*lam0*ktd + ktrm*lam0*M\n",
    "    #dmu1dt = lam0*lam1*ktc    + lam0*lam1*ktd + lam1*ktrm*M     #I THINKTHIS IS WRONG\n",
    "    dmu1dt = lam0*lam1*ktc    + lam0*lam1*ktd + lam1*ktrm*M  \n",
    "    dmu2dt = lam1*lam1*ktc    + lam0*lam2*ktc + lam0*lam2*ktd + ktrm*lam2*M\n",
    "    #live moments\n",
    "    dlam0dt =  - (lam0 * lam0 * (ktc+ktd)) + kp*I*M #lamo or 2*f*kd*I\n",
    "    dlam1dt =  - (lam0 * lam1 * (ktc+ktd)) + (lam0-lam1)*ktrm*M  + lam0*kp*M\n",
    "    dlam2dt =  - (lam0 * lam2 * (ktc+ktd)) + (lam0-lam2)*ktrm*M  + (2 * lam1 + lam0)*kp*M + kp*I*M\n",
    "    #rewrite in exact form of paper to determine difference\n",
    "    #dlam2dt = -ktc*lam0*lam2 -ktd*lam0*lam2 + kp*I*M - ktrm*lam0*M -  ktrm*lam2*M + kp*lam0*M + 2*kp*lam1*M #same result\n",
    "    return [dI2dt, dMdt, dlam0dt, dlam1dt, dlam2dt, dmu0dt, dmu1dt, dmu2dt, dIdt ]"
   ]
  },
  {
   "cell_type": "code",
   "execution_count": null,
   "id": "720a3bfb-4584-478e-bc9d-489905fade41",
   "metadata": {},
   "outputs": [],
   "source": [
    "\n",
    "M0 = 3.0\n",
    "S0 =3.0\n",
    "I0 = M0/100\n",
    "I20 = I0\n",
    "V0 = 1\n",
    "T = 80\n",
    "lambda0= 2e-9  #initialize living radicals \n",
    "lambda1= 2e-9\n",
    "lambda2= 2e-9\n",
    "mu0=  2e-9     #initialize dead radicals\n",
    "mu1=  2e-9\n",
    "mu2 = 2e-9\n",
    "\n",
    "y0 = [I0, M0, lambda0, lambda1, lambda2, mu0, mu1, mu2] \n",
    "t0 = 0\n",
    "abserr = 1.e-10 \n",
    "relerr = 1.e-10\n",
    "tf = 3000\n",
    "#force evaluation at every second\n",
    "t_pts = np.linspace(t0, tf, tf)  # set number of points between t=t0 and t=tf. OPTIONAL\n",
    "#my preferred starting configuration\n",
    "sol_AKS =  solve_ivp(poly_AKS, (t0, tf), y0, t_eval=t_pts,   rtol=relerr, atol=abserr, method='BDF', dense_output=True )  \n"
   ]
  },
  {
   "cell_type": "code",
   "execution_count": null,
   "id": "6b41c24c-c4bd-4db0-8f01-bb220774b7ce",
   "metadata": {},
   "outputs": [],
   "source": [
    "M0 = 3.0\n",
    "S0 =3.0\n",
    "I20 = M0/100\n",
    "V0 = 1\n",
    "I0 = 0\n",
    "T = 80\n",
    "y0 = [I20, M0, lambda0, lambda1, lambda2, mu0, mu1, mu2, I0] \n",
    "lambda0= 2e-9  #initialize living radicals \n",
    "\n",
    "lambda1= 2e-9\n",
    "lambda2= 2e-9\n",
    "mu0=  2e-9     #initialize dead radicals\n",
    "mu1=  2e-9\n",
    "mu2 = 2e-9\n",
    "I0 = 0\n",
    "t0 = 0\n",
    "abserr = 1.e-10 \n",
    "relerr = 1.e-10\n",
    "tf = 3000\n",
    "#force evaluation at every second\n",
    "t_pts = np.linspace(t0, tf, tf)  # set number of points between t=t0 and t=tf. OPTIONAL\n",
    "#my preferred starting configuration\n",
    "sol_Dhooge =  solve_ivp(poly_Dhooge, (t0, tf), y0, t_eval=t_pts, rtol=relerr, atol=abserr, method='BDF', dense_output=True )  \n",
    "#sol =  solve_ivp(poly_AKS, (t0, tf), y0, t_eval=t_pts,   rtol=relerr, atol=abserr, method='BDF', dense_output=True )  "
   ]
  },
  {
   "cell_type": "code",
   "execution_count": null,
   "id": "737ee90a-1422-45de-b9c5-9ae09ae6d1e1",
   "metadata": {},
   "outputs": [],
   "source": [
    "#sol_Dhooge"
   ]
  },
  {
   "cell_type": "raw",
   "id": "e4b20a9f-9705-4b44-8b4e-765c575182ca",
   "metadata": {},
   "source": [
    "#print out values for comparison if needed\n",
    "ki = 0.0  #this is soetimes used in a few models; first reaction of iitiator with monomer\n",
    "k_array = [f, kd, kp, ki, ktc, ktd, ktrm, kt]\n",
    "# a simple header\n",
    "k_list  = (' f ', '   kd', '   kp',   '   ki', '   ktc', '   ktd', ' ktrm',   '  kt')\n",
    "print(k_list)\n",
    "format_and_print (k_array)"
   ]
  },
  {
   "cell_type": "code",
   "execution_count": null,
   "id": "e2dd0b4c-000f-4d71-8073-31e59983a35d",
   "metadata": {},
   "outputs": [],
   "source": [
    "#illustrate usage when needed\n",
    "#Plot_Conversion(sol_AKS, M0, T)\n",
    "#Plot_Conversion(sol_Dhooge, M0, T)\n",
    "#Plot_Conversion_Hours(sol, M0, T)"
   ]
  },
  {
   "cell_type": "code",
   "execution_count": null,
   "id": "42c10c42-f3c2-4f52-aaea-eee5f6d09917",
   "metadata": {},
   "outputs": [],
   "source": [
    "#Plot_Conversion(sol_AKS, M0, T)"
   ]
  },
  {
   "cell_type": "code",
   "execution_count": null,
   "id": "44aee0c7-0c21-4e85-be2d-1e28bb80193b",
   "metadata": {},
   "outputs": [],
   "source": [
    "#illustrate usage when needed\n",
    "Plot_2_Conversions(sol_AKS, sol_Dhooge, M0, '80')\n",
    "last_M1 = sol_AKS.y[1,-1]\n",
    "last_M2 = sol_Dhooge.y[1,-1]\n",
    "print(last_M1)\n",
    "print(last_M2)"
   ]
  },
  {
   "cell_type": "code",
   "execution_count": null,
   "id": "738f93e3-cca5-4472-8417-4a940d18f222",
   "metadata": {},
   "outputs": [],
   "source": [
    "#compare moments graphicaly\n",
    "def Plot_lambdas(ode_result1, ode_result2):\n",
    "    #Create a figure area\n",
    "    fig = plt.figure(figsize=(12,6))\n",
    "    # Create two plots\n",
    "    #fig, (ax1, ax2) = plt.subplots(1, 2)\n",
    "    ax1 = fig.add_subplot(1, 2, 1)\n",
    "    ax2 = fig.add_subplot(1, 2, 2)\n",
    "    # Plot the first set of data\n",
    "    # plt. gca()\n",
    "#  [I0, M0, lambda0, lambda1, lambda2, mu0, mu1, mu2, I2]  [Dhooge is result2]\n",
    "    ax1.plot(ode_result2.t, ode_result2.y[8,:], label='lam0', )\n",
    "    ax2.plot(ode_result2.t, ode_result2.y[3,:], label='lam1', )\n",
    "    ax2.plot(ode_result2.t, ode_result2.y[4,:], label='lam2', )\n",
    "    \n",
    "    ax1.set_ylabel('Concentration')\n",
    "    ax1.set_xlabel('Time(s)')\n",
    "    ax1.grid()\n",
    "    ax1.set_title(f'Run Temperature = {T} ' )\n",
    "    ax1.legend() #NOTE essential for the labels\n",
    "    "
   ]
  },
  {
   "cell_type": "code",
   "execution_count": null,
   "id": "236a89aa-0476-4348-b1cd-2f837dd52d5f",
   "metadata": {},
   "outputs": [],
   "source": [
    "#Plot_lambdas(sol_AKS, sol_Dhooge)"
   ]
  },
  {
   "cell_type": "code",
   "execution_count": null,
   "id": "24b88820-b042-47a4-8881-110651c44f0f",
   "metadata": {},
   "outputs": [],
   "source": [
    "Plot_Number_and_Weight_Averages(sol_AKS, T)\n"
   ]
  },
  {
   "cell_type": "raw",
   "id": "6fd70e4b-fe35-42d5-bd3a-659f7b043f83",
   "metadata": {},
   "source": [
    "plot conversion versus chain length\n",
    "plot conversion versus dispersity\n",
    "plot all moments"
   ]
  },
  {
   "cell_type": "code",
   "execution_count": null,
   "id": "b4d7e0de-0214-4aa8-aca4-95f0b7dc0f9b",
   "metadata": {},
   "outputs": [],
   "source": [
    "#Xn = M1 / M0\n",
    "#y0 = [I0, M0, lambda0, lambda1, lambda2, mu0, mu1, mu2] AKS\n",
    "print( sol_AKS.y[3][-1]  /sol_AKS.y[2][-1]) #matches Predici  #lambda1/ lambda0\n",
    "#Xw = M1^2 / M0\n",
    "print(sol_AKS.y[3][-1] * sol_AKS.y[3][-1] /sol_AKS.y[2][-1]) #lambda1**2/Lambda0\n",
    "#Xz = M2 / M1\n",
    "print( sol_AKS.y[4][-1]  /sol_AKS.y[3][-1]) #matches Predici # Lambda2/ Lambda1"
   ]
  },
  {
   "cell_type": "code",
   "execution_count": null,
   "id": "45e6a464-7861-489d-b213-c70d96e9f366",
   "metadata": {},
   "outputs": [],
   "source": [
    "#Xn = M1 / M0\n",
    "#y0 = [I0, M0, lambda0, lambda1, lambda2, mu0, mu1, mu2] AKS\n",
    "print( sol_Dhooge.y[6][-1]  /sol_Dhooge.y[5][-1]) #mu1/mu0\n",
    "#Xw = M1^2 / M0\n",
    "print(sol_Dhooge.y[6][-1] * sol_Dhooge.y[6][-1] /sol_Dhooge.y[5][-1]) # (mu1**2/M0)\n",
    "#Xz = M2 / M1\n",
    "print( sol_Dhooge.y[7][-1]  /sol_Dhooge.y[6][-1]) #should be 163 GOT IT #HIS Mu2 / Mu1 \n",
    " "
   ]
  },
  {
   "cell_type": "code",
   "execution_count": null,
   "id": "a8f02234-76ac-4cb0-8634-619d2e4493ac",
   "metadata": {},
   "outputs": [],
   "source": [
    "#switch Dhooge moments\n",
    "#Xn = M1 / M0\n",
    "#y0 = [I0, M0, lambda0, lambda1, lambda2, mu0, mu1, mu2] AKS\n",
    "print( sol_Dhooge.y[3][-1]  /sol_Dhooge.y[2][-1]) #lam1/lam0\n",
    "#Xw = M1^2 / M0\n",
    "print(sol_Dhooge.y[3][-1] * sol_Dhooge.y[3][-1] /sol_Dhooge.y[2][-1]) # (lam1**2/lam0)\n",
    "#Xz = M2 / M1\n",
    "print( sol_Dhooge.y[4][-1]  /sol_Dhooge.y[3][-1])  #HIS Lam2 / Lam1\n"
   ]
  },
  {
   "cell_type": "code",
   "execution_count": null,
   "id": "83e6fc97-d9d0-4838-8e0b-ba1b50762dae",
   "metadata": {},
   "outputs": [],
   "source": [
    "def Plot_Conversions_Versus_Chain_Length(ode_result1,ode_result2 , M0, T):\n",
    "    conversion =1 - (ode_result1.y[1][1:]/M0 )\n",
    "    #Lambda1 / Lambda 0\n",
    "    Xn_AKS = ode_result1.y[3][1:]/ode_result1.y[2][1:]  #avoid divide by zero at time 0\n",
    "    Xn_Dhooge =  ode_result2.y[6][1:]/ode_result2.y[5][1:]  #avoid divide by zero at time 0\n",
    "    plt.plot( conversion, Xn_AKS,  label='AKS'  )\n",
    "    plt.plot( conversion, Xn_Dhooge,  label='Dhooge'  )\n",
    "    plt.ylabel ('Chain Length' )\n",
    "    plt.xlabel('Conversion')\n",
    "    plt.title( 'Conversion versus Chain Length')\n",
    "    plt.legend()\n",
    "    plt.grid()    \n",
    "    plt.show()\n",
    "    return\n"
   ]
  },
  {
   "cell_type": "code",
   "execution_count": null,
   "id": "f50b8023-35f8-4333-9f45-943d226313cc",
   "metadata": {},
   "outputs": [],
   "source": [
    "Plot_Conversions_Versus_Chain_Length(sol_AKS,sol_Dhooge, M0, T)\n"
   ]
  },
  {
   "cell_type": "raw",
   "id": "d993f982-e433-4823-8719-470495bc3a38",
   "metadata": {},
   "source": [
    "misc. info.\n",
    "Schulz-Zimm Distribution:\n",
    "\n",
    "Weight average:\n",
    "Xw = (b + 1) / a\n",
    "Z-average:\n",
    "Xz = (b + 2) / a"
   ]
  },
  {
   "cell_type": "code",
   "execution_count": null,
   "id": "ea430a5c-db05-4012-bc53-53c109bb7451",
   "metadata": {},
   "outputs": [],
   "source": [
    "Plot_All_Moments(sol_AKS, 'AKS')"
   ]
  },
  {
   "cell_type": "code",
   "execution_count": null,
   "id": "747f28a8-5ea6-4308-afed-de1a51fdc7ef",
   "metadata": {},
   "outputs": [],
   "source": [
    "Plot_All_Moments(sol_Dhooge, 'Dhooge')"
   ]
  },
  {
   "cell_type": "code",
   "execution_count": null,
   "id": "78857ff7-aad2-491e-b603-7b415ea99aae",
   "metadata": {},
   "outputs": [],
   "source": []
  },
  {
   "cell_type": "code",
   "execution_count": null,
   "id": "86ff63e1-cd4e-4be4-abb1-08b6ddf3f472",
   "metadata": {},
   "outputs": [],
   "source": []
  }
 ],
 "metadata": {
  "kernelspec": {
   "display_name": "Python [conda env:chemistry1]",
   "language": "python",
   "name": "conda-env-chemistry1-py"
  },
  "language_info": {
   "codemirror_mode": {
    "name": "ipython",
    "version": 3
   },
   "file_extension": ".py",
   "mimetype": "text/x-python",
   "name": "python",
   "nbconvert_exporter": "python",
   "pygments_lexer": "ipython3",
   "version": "3.10.13"
  }
 },
 "nbformat": 4,
 "nbformat_minor": 5
}
